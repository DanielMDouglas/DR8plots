{
 "cells": [
  {
   "cell_type": "code",
   "execution_count": 1,
   "metadata": {},
   "outputs": [],
   "source": [
    "import numpy as np\n",
    "import matplotlib\n",
    "import matplotlib.pyplot as plt\n",
    "from matplotlib.gridspec import GridSpec"
   ]
  },
  {
   "cell_type": "code",
   "execution_count": 3,
   "metadata": {},
   "outputs": [],
   "source": [
    "DUNEblue = '#7FAED5'\n",
    "DUNElightOrange = '#F19E54'\n",
    "DUNEdarkOrange = '#F0652B'\n",
    "DUNEgreen = '#8ACA6F'\n",
    "DUNEgray = '#626466'\n",
    "DUNEyellow = '#FBD03F'\n",
    "DUNEpurple = '#5B3069'\n",
    "DUNElightPurple = '#8C6E96'\n",
    "DUNEcyan = '#42C2A8'\n",
    "DUNEpink = '#F7AEC2'\n",
    "\n",
    "DUNEcolors = [DUNEblue,\n",
    "              DUNElightOrange,\n",
    "              DUNEdarkOrange,\n",
    "              DUNEgreen,\n",
    "              DUNEgray,\n",
    "              DUNEyellow,\n",
    "              DUNEpurple,\n",
    "              DUNElightPurple,\n",
    "              DUNEcyan,\n",
    "              DUNEpink]\n",
    "\n",
    "matplotlib.rc('font', family = 'FreeSerif', size = 16, weight = 'bold')\n",
    "matplotlib.rc('text', usetex = True)\n",
    "matplotlib.rc('axes', prop_cycle = matplotlib.cycler(color = DUNEcolors))"
   ]
  },
  {
   "cell_type": "code",
   "execution_count": 20,
   "metadata": {},
   "outputs": [
    {
     "data": {
      "text/plain": [
       "Text(0, 0.5, 'Current [mA]')"
      ]
     },
     "execution_count": 20,
     "metadata": {},
     "output_type": "execute_result"
    },
    {
     "data": {
      "image/png": "[encoded data removed]",
      "text/plain": [
       "<Figure size 432x288 with 1 Axes>"
      ]
     },
     "metadata": {
      "needs_background": "light"
     },
     "output_type": "display_data"
    }
   ],
   "source": [
    "### MSU TLM Plot 1: voltage vs. current\n",
    "\n",
    "data = [{\"file\": \"MSU_TLM_data/sample2.dat\",\n",
    "         \"label\": r'1.292 cm'},\n",
    "        {\"file\": \"MSU_TLM_data/sample4.dat\",\n",
    "         \"label\": r'1.869 cm'},\n",
    "        {\"file\": \"MSU_TLM_data/sample1.dat\",\n",
    "         \"label\": r'2.544 cm'},\n",
    "        {\"file\": \"MSU_TLM_data/sample5.dat\",\n",
    "         \"label\": r'3.108 cm'},\n",
    "        {\"file\": \"MSU_TLM_data/sample3.dat\",\n",
    "         \"label\": r'3.775 cm'},]\n",
    "\n",
    "fig = plt.figure()\n",
    "ax = fig.gca()\n",
    "\n",
    "for item in data:\n",
    "    V, dV, I, dI = np.loadtxt(item[\"file\"], \n",
    "                              delimiter = ',', \n",
    "                              skiprows = 1).T\n",
    "    \n",
    "    V /= 1000 # voltage in kV\n",
    "    dV /= 1000\n",
    "    \n",
    "    I /= 1000 # current in mA\n",
    "    dI /= 1000\n",
    "    \n",
    "    ax.errorbar(V, I,\n",
    "                xerr = dV,\n",
    "                yerr = dI,\n",
    "                ls = \"none\",\n",
    "                fmt = 'o',\n",
    "                ms = 2,\n",
    "                label = item[\"label\"])\n",
    "    \n",
    "ax.legend(ncol = 2, frameon = False)\n",
    "ax.set_xlabel(r'Voltage [kV]')\n",
    "ax.set_ylabel(r'Current [mA]')"
   ]
  },
  {
   "cell_type": "code",
   "execution_count": null,
   "metadata": {
    "collapsed": true
   },
   "outputs": [],
   "source": []
  }
 ],
 "metadata": {
  "kernelspec": {
   "display_name": "Python 3",
   "language": "python",
   "name": "python3"
  },
  "language_info": {
   "codemirror_mode": {
    "name": "ipython",
    "version": 3
   },
   "file_extension": ".py",
   "mimetype": "text/x-python",
   "name": "python",
   "nbconvert_exporter": "python",
   "pygments_lexer": "ipython3",
   "version": "3.8.6"
  }
 },
 "nbformat": 4,
 "nbformat_minor": 4
}
