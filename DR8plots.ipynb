{
 "cells": [
  {
   "cell_type": "code",
   "execution_count": 1,
   "metadata": {},
   "outputs": [],
   "source": [
    "import numpy as np\n",
    "import matplotlib\n",
    "import matplotlib.pyplot as plt\n",
    "from matplotlib.gridspec import GridSpec"
   ]
  },
  {
   "cell_type": "code",
   "execution_count": null,
   "metadata": {},
   "outputs": [],
   "source": [
    "DUNEblue = '#7FAED5'\n",
    "DUNElightOrange = '#F19E54'\n",
    "DUNEdarkOrange = '#F0652B'\n",
    "DUNEgreen = '#8ACA6F'\n",
    "DUNEgray = '#626466'\n",
    "DUNEyellow = '#FBD03F'\n",
    "DUNEpurple = '#5B3069'\n",
    "DUNElightPurple = '#8C6E96'\n",
    "DUNEcyan = '#42C2A8'\n",
    "DUNEpink = '#F7AEC2'\n",
    "\n",
    "DUNEcolors = [DUNEblue,\n",
    "              DUNElightOrange,\n",
    "              DUNEdarkOrange,\n",
    "              DUNEgreen,\n",
    "              DUNEgray,\n",
    "              DUNEyellow,\n",
    "              DUNEpurple,\n",
    "              DUNElightPurple,\n",
    "              DUNEcyan,\n",
    "              DUNEpink]\n",
    "\n",
    "matplotlib.rc('font', family = 'FreeSerif', size = 16, weight = 'bold')\n",
    "matplotlib.rc('text', usetex = True)\n",
    "matplotlib.rc('axes', prop_cycle = matplotlib.cycler(color = DUNEcolors))"
   ]
  }
 ],
 "metadata": {
  "kernelspec": {
   "display_name": "Python 3",
   "language": "python",
   "name": "python3"
  },
  "language_info": {
   "codemirror_mode": {
    "name": "ipython",
    "version": 3
   },
   "file_extension": ".py",
   "mimetype": "text/x-python",
   "name": "python",
   "nbconvert_exporter": "python",
   "pygments_lexer": "ipython3",
   "version": "3.8.6"
  }
 },
 "nbformat": 4,
 "nbformat_minor": 4
}
